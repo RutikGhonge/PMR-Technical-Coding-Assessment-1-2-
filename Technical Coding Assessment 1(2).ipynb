{
 "cells": [
  {
   "cell_type": "markdown",
   "id": "854e8129",
   "metadata": {},
   "source": [
    "# Python Candidates - Question 2\n",
    "\n",
    "\n",
    "\n",
    "﻿Your task is to complete the validate_triangle and validate_rectangle functions for the classes.Hint for validating is given in the\n",
    "\n",
    "comments of the code. Also you will have to print the following after validation in respective functions:-\n",
    "\n",
    "1.Invalid Triangle: If the triangle sum property of sides is not valid(More hint in the comments of code)\n",
    "\n",
    "2.Valid Triangle:If the triangle sum property of sides is valid.\n",
    "\n",
    "3.Valid Rectangle:If 2 side pairs are same and they are input in correct order like l,b,l,b\n",
    "\n",
    "4.Invalid Rectangle: If Not Valid rectangle as stated above.\n",
    "\n",
    "\n",
    "\n",
    "Sample Input 0:\n",
    "\n",
    "3 4 5\n",
    "\n",
    "2 4 2 4\n",
    "\n",
    "Sample Output 0:\n",
    "\n",
    "Valid Triangle\n",
    "\n",
    "Valid Rectangle"
   ]
  },
  {
   "cell_type": "code",
   "execution_count": 90,
   "id": "38831e2f",
   "metadata": {},
   "outputs": [
    {
     "name": "stdout",
     "output_type": "stream",
     "text": [
      "3 4 5\n",
      "1 2 1 2\n",
      "Valid Tringle\n",
      "Valid Rectangle\n"
     ]
    }
   ],
   "source": [
    "def checkValidity(a,b,c,d,e,f,g):\n",
    "    if (e+f<=g) or (e+g<=f) or (g+f<=e):\n",
    "        print(\"Invalid Tringle\")\n",
    "    else:\n",
    "        print( \"Valid Tringle\")\n",
    "    if (a == b and d == c) or (a == c and b == d) or (a == d and b == c):\n",
    "        print (\"Valid Rectangle\")\n",
    "    else:\n",
    "        print( \"Invalid Rectangle\")\n",
    "        \n",
    "m=input()\n",
    "p=m.split()\n",
    "\n",
    "[e,f,g]=int(p[0]),int(p[1]),int(p[2])\n",
    "\n",
    "n=input()\n",
    "m=n.split()\n",
    "[a,b,c,d]=int(m[0]),int(m[1]),int(m[2]),int(m[3])\n",
    "\n",
    "\n",
    "\n",
    "checkValidity(a, b, c,d,e,f,g)\n",
    "\n",
    "\n"
   ]
  }
 ],
 "metadata": {
  "kernelspec": {
   "display_name": "Python 3 (ipykernel)",
   "language": "python",
   "name": "python3"
  },
  "language_info": {
   "codemirror_mode": {
    "name": "ipython",
    "version": 3
   },
   "file_extension": ".py",
   "mimetype": "text/x-python",
   "name": "python",
   "nbconvert_exporter": "python",
   "pygments_lexer": "ipython3",
   "version": "3.9.12"
  }
 },
 "nbformat": 4,
 "nbformat_minor": 5
}
